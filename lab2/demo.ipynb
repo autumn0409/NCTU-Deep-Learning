{
 "cells": [
  {
   "cell_type": "code",
   "execution_count": 1,
   "metadata": {},
   "outputs": [],
   "source": [
    "import torch\n",
    "import torch.nn as nn\n",
    "from torch.utils.data import TensorDataset, DataLoader\n",
    "\n",
    "from EEGNET import EEGNet\n",
    "from DeepConvNet import DeepConvNet\n",
    "from utils import read_bci_data, test_acc"
   ]
  },
  {
   "cell_type": "code",
   "execution_count": 2,
   "metadata": {},
   "outputs": [],
   "source": [
    "loss_func = nn.CrossEntropyLoss()\n",
    "dropout = 0.5\n",
    "\n",
    "device = 'cuda' if torch.cuda.is_available() else 'cpu'"
   ]
  },
  {
   "cell_type": "code",
   "execution_count": 3,
   "metadata": {},
   "outputs": [],
   "source": [
    "# load test data\n",
    "_, _, test_data, test_label = read_bci_data()\n",
    "\n",
    "test_dataset = TensorDataset(torch.Tensor(test_data), torch.Tensor(test_label))\n",
    "\n",
    "test_loader = DataLoader(\n",
    "    dataset=test_dataset,\n",
    ")"
   ]
  },
  {
   "cell_type": "code",
   "execution_count": 4,
   "metadata": {},
   "outputs": [
    {
     "data": {
      "text/plain": [
       "88.42592592592592"
      ]
     },
     "execution_count": 4,
     "metadata": {},
     "output_type": "execute_result"
    }
   ],
   "source": [
    "net = EEGNet(activation='ReLU', dropout=dropout)\n",
    "net.load_state_dict(torch.load('eeg_net_relu.pkl'))\n",
    "net.to(device)\n",
    "test_acc(net, loss_func, test_loader, device)"
   ]
  },
  {
   "cell_type": "code",
   "execution_count": 5,
   "metadata": {},
   "outputs": [
    {
     "data": {
      "text/plain": [
       "87.96296296296296"
      ]
     },
     "execution_count": 5,
     "metadata": {},
     "output_type": "execute_result"
    }
   ],
   "source": [
    "net = EEGNet(activation='LeakyReLU', dropout=dropout)\n",
    "net.load_state_dict(torch.load('eeg_net_leaky_relu.pkl'))\n",
    "net.to(device)\n",
    "test_acc(net, loss_func, test_loader, device)"
   ]
  },
  {
   "cell_type": "code",
   "execution_count": 6,
   "metadata": {},
   "outputs": [
    {
     "data": {
      "text/plain": [
       "85.64814814814815"
      ]
     },
     "execution_count": 6,
     "metadata": {},
     "output_type": "execute_result"
    }
   ],
   "source": [
    "net = EEGNet(activation='ELU', dropout=dropout)\n",
    "net.load_state_dict(torch.load('eeg_net_elu.pkl'))\n",
    "net.to(device)\n",
    "test_acc(net, loss_func, test_loader, device)"
   ]
  },
  {
   "cell_type": "code",
   "execution_count": 7,
   "metadata": {},
   "outputs": [
    {
     "data": {
      "text/plain": [
       "82.12962962962963"
      ]
     },
     "execution_count": 7,
     "metadata": {},
     "output_type": "execute_result"
    }
   ],
   "source": [
    "net = DeepConvNet(activation='ReLU', dropout=dropout)\n",
    "net.load_state_dict(torch.load('deep_conv_net_relu.pkl'))\n",
    "net.to(device)\n",
    "test_acc(net, loss_func, test_loader, device)"
   ]
  },
  {
   "cell_type": "code",
   "execution_count": 8,
   "metadata": {},
   "outputs": [
    {
     "data": {
      "text/plain": [
       "82.22222222222223"
      ]
     },
     "execution_count": 8,
     "metadata": {},
     "output_type": "execute_result"
    }
   ],
   "source": [
    "net = DeepConvNet(activation='LeakyReLU', dropout=dropout)\n",
    "net.load_state_dict(torch.load('deep_conv_net_leaky_relu.pkl'))\n",
    "net.to(device)\n",
    "test_acc(net, loss_func, test_loader, device)"
   ]
  },
  {
   "cell_type": "code",
   "execution_count": 9,
   "metadata": {},
   "outputs": [
    {
     "data": {
      "text/plain": [
       "80.64814814814815"
      ]
     },
     "execution_count": 9,
     "metadata": {},
     "output_type": "execute_result"
    }
   ],
   "source": [
    "net = DeepConvNet(activation='ELU', dropout=dropout)\n",
    "net.load_state_dict(torch.load('deep_conv_net_elu.pkl'))\n",
    "net.to(device)\n",
    "test_acc(net, loss_func, test_loader, device)"
   ]
  }
 ],
 "metadata": {
  "kernelspec": {
   "display_name": "Python (lab)",
   "language": "python",
   "name": "lab"
  },
  "language_info": {
   "codemirror_mode": {
    "name": "ipython",
    "version": 3
   },
   "file_extension": ".py",
   "mimetype": "text/x-python",
   "name": "python",
   "nbconvert_exporter": "python",
   "pygments_lexer": "ipython3",
   "version": "3.6.10"
  }
 },
 "nbformat": 4,
 "nbformat_minor": 4
}
