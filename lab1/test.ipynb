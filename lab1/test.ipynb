{
 "cells": [
  {
   "cell_type": "code",
   "execution_count": 1,
   "metadata": {},
   "outputs": [],
   "source": [
    "from generate_data import generate_linear, generate_XOR_easy\n",
    "from show_result import show_result\n",
    "from utils import to_label, cal_accuracy\n",
    "from nn import FC_Net"
   ]
  },
  {
   "cell_type": "code",
   "execution_count": 2,
   "metadata": {},
   "outputs": [
    {
     "name": "stdout",
     "output_type": "stream",
     "text": [
      "Start training...\n",
      "epoch 5000   loss: 0.09478  accuracy: 0.96000\n",
      "epoch 10000  loss: 0.06297  accuracy: 0.95000\n",
      "epoch 15000  loss: 0.05180  accuracy: 0.95000\n",
      "epoch 20000  loss: 0.04588  accuracy: 0.95000\n",
      "epoch 25000  loss: 0.04202  accuracy: 0.96000\n",
      "epoch 30000  loss: 0.03919  accuracy: 0.96000\n",
      "epoch 35000  loss: 0.03696  accuracy: 0.97000\n",
      "epoch 40000  loss: 0.03510  accuracy: 0.98000\n",
      "epoch 45000  loss: 0.03350  accuracy: 0.98000\n",
      "epoch 50000  loss: 0.03209  accuracy: 0.98000\n",
      "epoch 55000  loss: 0.03080  accuracy: 0.98000\n",
      "epoch 60000  loss: 0.02963  accuracy: 0.98000\n",
      "epoch 65000  loss: 0.02854  accuracy: 0.98000\n",
      "epoch 70000  loss: 0.02752  accuracy: 0.98000\n",
      "epoch 75000  loss: 0.02656  accuracy: 0.98000\n",
      "epoch 80000  loss: 0.02566  accuracy: 0.99000\n",
      "epoch 85000  loss: 0.02480  accuracy: 0.99000\n",
      "epoch 89801  loss: 0.02401  accuracy: 1.00000\n",
      "Accuracy > 0.999, early stop the training.\n"
     ]
    }
   ],
   "source": [
    "# train linear\n",
    "net_linear = FC_Net([10, 10])\n",
    "x_train, y_train = generate_linear()\n",
    "net_linear.train(x_train, y_train, epochs=100000, learning_rate=0.015);"
   ]
  },
  {
   "cell_type": "code",
   "execution_count": 3,
   "metadata": {},
   "outputs": [
    {
     "name": "stdout",
     "output_type": "stream",
     "text": [
      "Testing output:\n",
      "[[4.29733800e-01]\n",
      " [1.72328351e-02]\n",
      " [9.99478357e-01]\n",
      " [9.99646612e-01]\n",
      " [9.99882474e-01]\n",
      " [9.99925224e-01]\n",
      " [5.32072710e-03]\n",
      " [6.28544517e-02]\n",
      " [3.88829350e-01]\n",
      " [9.94560731e-01]\n",
      " [8.71944542e-01]\n",
      " [1.96584937e-05]\n",
      " [2.79986430e-04]\n",
      " [5.16406227e-01]\n",
      " [9.99862402e-01]\n",
      " [9.99914075e-01]\n",
      " [3.91218147e-03]\n",
      " [9.99233849e-01]\n",
      " [9.99938931e-01]\n",
      " [9.99448387e-01]\n",
      " [1.70754511e-04]\n",
      " [9.98812592e-01]\n",
      " [1.99720395e-05]\n",
      " [9.99843793e-01]\n",
      " [1.05048921e-04]\n",
      " [6.20015287e-03]\n",
      " [9.49662346e-05]\n",
      " [7.06201751e-01]\n",
      " [3.57507433e-01]\n",
      " [5.43005179e-05]\n",
      " [9.99698501e-01]\n",
      " [9.99861858e-01]\n",
      " [9.99919094e-01]\n",
      " [6.82470575e-01]\n",
      " [7.54058729e-05]\n",
      " [2.47621067e-04]\n",
      " [3.21501307e-03]\n",
      " [4.62602351e-05]\n",
      " [9.94096987e-01]\n",
      " [8.74335668e-01]\n",
      " [3.28230878e-01]\n",
      " [9.99895239e-01]\n",
      " [9.99936366e-01]\n",
      " [8.47660645e-01]\n",
      " [9.74388011e-05]\n",
      " [8.31477495e-02]\n",
      " [6.70652706e-01]\n",
      " [1.44569098e-03]\n",
      " [9.90008673e-01]\n",
      " [9.94347734e-01]\n",
      " [4.41531248e-05]\n",
      " [6.64898773e-01]\n",
      " [8.13480091e-01]\n",
      " [1.82346190e-02]\n",
      " [7.26643090e-01]\n",
      " [9.86200522e-01]\n",
      " [9.99872938e-01]\n",
      " [2.29269762e-05]\n",
      " [1.00640123e-01]\n",
      " [9.99437489e-01]\n",
      " [6.22971319e-05]\n",
      " [3.27699473e-05]\n",
      " [5.73096493e-04]\n",
      " [2.58681402e-05]\n",
      " [9.99662207e-01]\n",
      " [9.99943437e-01]\n",
      " [9.99947327e-01]\n",
      " [9.99903944e-01]\n",
      " [9.99883752e-01]\n",
      " [3.07183200e-05]\n",
      " [9.97850064e-01]\n",
      " [9.98949426e-01]\n",
      " [9.97033430e-01]\n",
      " [9.78815488e-01]\n",
      " [7.18699163e-05]\n",
      " [3.37856979e-05]\n",
      " [9.99948905e-01]\n",
      " [9.99742413e-01]\n",
      " [3.87804583e-03]\n",
      " [2.72203995e-01]\n",
      " [9.99674322e-01]\n",
      " [2.88746202e-03]\n",
      " [4.61485811e-04]\n",
      " [6.31301164e-01]\n",
      " [1.04672528e-01]\n",
      " [4.90049284e-01]\n",
      " [9.94586659e-01]\n",
      " [5.00001665e-01]\n",
      " [3.30096461e-03]\n",
      " [9.99859876e-01]\n",
      " [1.04201117e-03]\n",
      " [3.97692959e-01]\n",
      " [9.99762202e-01]\n",
      " [9.98796586e-01]\n",
      " [2.91685442e-02]\n",
      " [6.49002049e-05]\n",
      " [9.99653577e-01]\n",
      " [2.17502674e-03]\n",
      " [9.92626826e-01]\n",
      " [3.60667196e-01]]\n"
     ]
    },
    {
     "data": {
      "image/png": "[encoded data removed]",
      "text/plain": [
       "<Figure size 432x288 with 2 Axes>"
      ]
     },
     "metadata": {
      "needs_background": "light"
     },
     "output_type": "display_data"
    },
    {
     "name": "stdout",
     "output_type": "stream",
     "text": [
      "Accuracy = 1.0\n"
     ]
    }
   ],
   "source": [
    "# show result\n",
    "y_pred = net_linear.test(x_train)\n",
    "print('Testing output:')\n",
    "print(y_pred)\n",
    "y_pred_label = to_label(y_pred)\n",
    "show_result(x_train, y_train, y_pred_label)\n",
    "print(f'Accuracy = {cal_accuracy(y_train, y_pred)}')"
   ]
  },
  {
   "cell_type": "code",
   "execution_count": 4,
   "metadata": {},
   "outputs": [
    {
     "name": "stdout",
     "output_type": "stream",
     "text": [
      "Start training...\n",
      "epoch 5000   loss: 0.24705  accuracy: 0.61905\n",
      "epoch 10000  loss: 0.24305  accuracy: 0.66667\n",
      "epoch 15000  loss: 0.23694  accuracy: 0.71429\n",
      "epoch 20000  loss: 0.22745  accuracy: 0.71429\n",
      "epoch 25000  loss: 0.21272  accuracy: 0.71429\n",
      "epoch 30000  loss: 0.18718  accuracy: 0.76190\n",
      "epoch 35000  loss: 0.14506  accuracy: 0.85714\n",
      "epoch 40000  loss: 0.10364  accuracy: 0.90476\n",
      "epoch 45000  loss: 0.07643  accuracy: 0.90476\n",
      "epoch 50000  loss: 0.05886  accuracy: 0.90476\n",
      "epoch 55000  loss: 0.04620  accuracy: 0.95238\n",
      "epoch 60000  loss: 0.03633  accuracy: 0.95238\n",
      "epoch 60214  loss: 0.03595  accuracy: 1.00000\n",
      "Accuracy > 0.999, early stop the training.\n"
     ]
    }
   ],
   "source": [
    "# train XOR\n",
    "net_XOR = FC_Net([10, 10])\n",
    "x_train, y_train = generate_XOR_easy()\n",
    "net_XOR.train(x_train, y_train, epochs=100000, learning_rate=0.015);"
   ]
  },
  {
   "cell_type": "code",
   "execution_count": 5,
   "metadata": {},
   "outputs": [
    {
     "name": "stdout",
     "output_type": "stream",
     "text": [
      "Testing output:\n",
      "[[0.12004588]\n",
      " [0.98170832]\n",
      " [0.13684253]\n",
      " [0.97539987]\n",
      " [0.15455828]\n",
      " [0.9572442 ]\n",
      " [0.17057551]\n",
      " [0.87730783]\n",
      " [0.18231787]\n",
      " [0.50001866]\n",
      " [0.1881407 ]\n",
      " [0.18773578]\n",
      " [0.58103335]\n",
      " [0.18193322]\n",
      " [0.91624504]\n",
      " [0.17218598]\n",
      " [0.95480332]\n",
      " [0.1600642 ]\n",
      " [0.96248359]\n",
      " [0.14692566]\n",
      " [0.9647951 ]]\n"
     ]
    },
    {
     "data": {
      "image/png": "[encoded data removed]",
      "text/plain": [
       "<Figure size 432x288 with 2 Axes>"
      ]
     },
     "metadata": {
      "needs_background": "light"
     },
     "output_type": "display_data"
    },
    {
     "name": "stdout",
     "output_type": "stream",
     "text": [
      "Accuracy = 1.0\n"
     ]
    }
   ],
   "source": [
    "# show result\n",
    "y_pred = net_XOR.test(x_train)\n",
    "print('Testing output:')\n",
    "print(y_pred)\n",
    "y_pred_label = to_label(y_pred)\n",
    "show_result(x_train, y_train, y_pred_label)\n",
    "print(f'Accuracy = {cal_accuracy(y_train, y_pred)}')"
   ]
  }
 ],
 "metadata": {
  "kernelspec": {
   "display_name": "Python (lab1)",
   "language": "python",
   "name": "lab1"
  },
  "language_info": {
   "codemirror_mode": {
    "name": "ipython",
    "version": 3
   },
   "file_extension": ".py",
   "mimetype": "text/x-python",
   "name": "python",
   "nbconvert_exporter": "python",
   "pygments_lexer": "ipython3",
   "version": "3.8.3"
  }
 },
 "nbformat": 4,
 "nbformat_minor": 4
}
