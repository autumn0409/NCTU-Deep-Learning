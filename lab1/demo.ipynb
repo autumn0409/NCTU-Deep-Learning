{
 "cells": [
  {
   "cell_type": "code",
   "execution_count": 1,
   "metadata": {},
   "outputs": [],
   "source": [
    "from generate_data import generate_linear, generate_XOR_easy\n",
    "from show_result import show_result\n",
    "from utils import to_label, cal_accuracy\n",
    "from net import FC_Net"
   ]
  },
  {
   "cell_type": "code",
   "execution_count": 2,
   "metadata": {},
   "outputs": [],
   "source": [
    "epochs=50000\n",
    "learning_rate=0.1\n",
    "early_stop=True"
   ]
  },
  {
   "cell_type": "code",
   "execution_count": 3,
   "metadata": {},
   "outputs": [
    {
     "name": "stdout",
     "output_type": "stream",
     "text": [
      "Start training...\n",
      "epoch 2500   loss: 0.05264  accuracy: 0.98000\n",
      "epoch 5000   loss: 0.02641  accuracy: 0.98000\n",
      "epoch 7500   loss: 0.02049  accuracy: 0.98000\n",
      "epoch 10000  loss: 0.01770  accuracy: 0.98000\n",
      "epoch 12500  loss: 0.01600  accuracy: 0.99000\n",
      "epoch 15000  loss: 0.01482  accuracy: 0.99000\n",
      "epoch 17500  loss: 0.01394  accuracy: 0.99000\n",
      "epoch 20000  loss: 0.01323  accuracy: 0.99000\n",
      "epoch 22500  loss: 0.01264  accuracy: 0.99000\n",
      "epoch 25000  loss: 0.01214  accuracy: 0.99000\n",
      "epoch 27500  loss: 0.01170  accuracy: 0.99000\n",
      "epoch 30000  loss: 0.01131  accuracy: 0.99000\n",
      "epoch 32500  loss: 0.01096  accuracy: 0.99000\n",
      "epoch 35000  loss: 0.01064  accuracy: 0.99000\n",
      "epoch 37500  loss: 0.01035  accuracy: 0.99000\n",
      "epoch 40000  loss: 0.01007  accuracy: 0.99000\n",
      "epoch 42500  loss: 0.00982  accuracy: 0.99000\n",
      "epoch 45000  loss: 0.00958  accuracy: 0.99000\n",
      "epoch 45054  loss: 0.00957  accuracy: 1.00000\n",
      "Accuracy = 1.0, early stop the training.\n"
     ]
    }
   ],
   "source": [
    "# train linear\n",
    "net_linear = FC_Net(4, 4)\n",
    "x_train, y_train = generate_linear()\n",
    "linear_history = net_linear.train(x_train, y_train, epochs=epochs, learning_rate=learning_rate, early_stop=early_stop);"
   ]
  },
  {
   "cell_type": "code",
   "execution_count": 4,
   "metadata": {
    "scrolled": true
   },
   "outputs": [
    {
     "name": "stdout",
     "output_type": "stream",
     "text": [
      "Testing output:\n",
      "[[2.91993783e-04]\n",
      " [9.99824038e-01]\n",
      " [9.99306080e-01]\n",
      " [9.99784767e-01]\n",
      " [9.98213967e-01]\n",
      " [1.82621448e-04]\n",
      " [9.99762393e-01]\n",
      " [9.99804403e-01]\n",
      " [2.32586060e-04]\n",
      " [2.05302039e-04]\n",
      " [9.93530577e-01]\n",
      " [9.99738907e-01]\n",
      " [4.93545119e-04]\n",
      " [9.99791938e-01]\n",
      " [9.99589797e-01]\n",
      " [1.28822212e-03]\n",
      " [5.45653224e-04]\n",
      " [4.29921334e-03]\n",
      " [2.71134466e-04]\n",
      " [3.93170101e-01]\n",
      " [1.07183891e-02]\n",
      " [2.64877299e-04]\n",
      " [9.99540341e-01]\n",
      " [9.99714429e-01]\n",
      " [9.99810779e-01]\n",
      " [9.99604010e-01]\n",
      " [9.99276110e-01]\n",
      " [9.99598842e-01]\n",
      " [6.06735000e-02]\n",
      " [6.29281294e-04]\n",
      " [9.99795975e-01]\n",
      " [9.97775499e-01]\n",
      " [4.62550970e-04]\n",
      " [3.25881471e-01]\n",
      " [3.19221357e-04]\n",
      " [9.99805971e-01]\n",
      " [9.99719046e-01]\n",
      " [9.99783310e-01]\n",
      " [9.96627055e-01]\n",
      " [5.00002513e-01]\n",
      " [2.47389488e-03]\n",
      " [1.97596360e-01]\n",
      " [7.68885188e-01]\n",
      " [9.72268940e-01]\n",
      " [9.99744693e-01]\n",
      " [3.01186996e-04]\n",
      " [5.75332274e-04]\n",
      " [2.19835087e-02]\n",
      " [8.92757448e-01]\n",
      " [9.99600436e-01]\n",
      " [9.97080539e-01]\n",
      " [2.28939394e-04]\n",
      " [9.99558850e-01]\n",
      " [5.91641894e-03]\n",
      " [1.66424601e-04]\n",
      " [2.10255004e-04]\n",
      " [3.35875790e-04]\n",
      " [1.85462596e-04]\n",
      " [1.70405478e-04]\n",
      " [1.91007353e-04]\n",
      " [1.69344786e-04]\n",
      " [1.90338213e-04]\n",
      " [1.67151365e-04]\n",
      " [7.97552279e-04]\n",
      " [1.65586593e-04]\n",
      " [9.99810338e-01]\n",
      " [1.99457966e-04]\n",
      " [3.43959636e-04]\n",
      " [9.99495764e-01]\n",
      " [9.91519342e-01]\n",
      " [1.81105831e-02]\n",
      " [9.99390978e-01]\n",
      " [2.75434095e-04]\n",
      " [4.85630838e-03]\n",
      " [5.53708666e-01]\n",
      " [9.99136409e-01]\n",
      " [9.01037352e-03]\n",
      " [9.99506955e-01]\n",
      " [7.98500222e-04]\n",
      " [9.99719265e-01]\n",
      " [1.82392014e-04]\n",
      " [9.97922148e-01]\n",
      " [6.32094736e-02]\n",
      " [1.78818425e-04]\n",
      " [9.99811447e-01]\n",
      " [1.14683862e-03]\n",
      " [3.65485194e-01]\n",
      " [9.99790801e-01]\n",
      " [9.99814637e-01]\n",
      " [9.99635131e-01]\n",
      " [9.99665628e-01]\n",
      " [1.67646489e-04]\n",
      " [2.22649373e-04]\n",
      " [4.93409283e-04]\n",
      " [3.77187440e-04]\n",
      " [9.99783157e-01]\n",
      " [1.80404295e-04]\n",
      " [9.88695527e-01]\n",
      " [9.99640633e-01]\n",
      " [1.78318979e-04]]\n"
     ]
    },
    {
     "data": {
      "image/png": "[encoded data removed]",
      "text/plain": [
       "<Figure size 432x288 with 2 Axes>"
      ]
     },
     "metadata": {
      "needs_background": "light"
     },
     "output_type": "display_data"
    },
    {
     "name": "stdout",
     "output_type": "stream",
     "text": [
      "Accuracy = 1.0\n"
     ]
    }
   ],
   "source": [
    "# test linear\n",
    "y_hat = net_linear.test(x_train)\n",
    "print('Testing output:')\n",
    "print(y_hat)\n",
    "y_hat_label = to_label(y_hat)\n",
    "show_result(x_train, y_train, y_hat_label)\n",
    "print(f'Accuracy = {cal_accuracy(y_train, y_hat)}')"
   ]
  },
  {
   "cell_type": "code",
   "execution_count": 5,
   "metadata": {},
   "outputs": [
    {
     "name": "stdout",
     "output_type": "stream",
     "text": [
      "Start training...\n",
      "epoch 2500   loss: 0.24429  accuracy: 0.61905\n",
      "epoch 5000   loss: 0.20947  accuracy: 0.76190\n",
      "epoch 7500   loss: 0.09207  accuracy: 0.90476\n",
      "epoch 10000  loss: 0.04008  accuracy: 0.95238\n",
      "epoch 10325  loss: 0.03619  accuracy: 1.00000\n",
      "Accuracy = 1.0, early stop the training.\n"
     ]
    }
   ],
   "source": [
    "# train XOR\n",
    "net_XOR = FC_Net(10, 10)\n",
    "x_train, y_train = generate_XOR_easy()\n",
    "xor_history = net_XOR.train(x_train, y_train, epochs=epochs, learning_rate=learning_rate, early_stop=early_stop);"
   ]
  },
  {
   "cell_type": "code",
   "execution_count": 6,
   "metadata": {},
   "outputs": [
    {
     "name": "stdout",
     "output_type": "stream",
     "text": [
      "Testing output:\n",
      "[[0.11973283]\n",
      " [0.97677042]\n",
      " [0.14127229]\n",
      " [0.96980303]\n",
      " [0.1647566 ]\n",
      " [0.94980877]\n",
      " [0.18462403]\n",
      " [0.8653713 ]\n",
      " [0.19614664]\n",
      " [0.50009063]\n",
      " [0.19797213]\n",
      " [0.19174981]\n",
      " [0.61777082]\n",
      " [0.18029965]\n",
      " [0.9054747 ]\n",
      " [0.16623708]\n",
      " [0.92200627]\n",
      " [0.15145772]\n",
      " [0.9172866 ]\n",
      " [0.13713535]\n",
      " [0.91120872]]\n"
     ]
    },
    {
     "data": {
      "image/png": "[encoded data removed]",
      "text/plain": [
       "<Figure size 432x288 with 2 Axes>"
      ]
     },
     "metadata": {
      "needs_background": "light"
     },
     "output_type": "display_data"
    },
    {
     "name": "stdout",
     "output_type": "stream",
     "text": [
      "Accuracy = 1.0\n"
     ]
    }
   ],
   "source": [
    "# test XOR\n",
    "y_hat = net_XOR.test(x_train)\n",
    "print('Testing output:')\n",
    "print(y_hat)\n",
    "y_hat_label = to_label(y_hat)\n",
    "show_result(x_train, y_train, y_hat_label)\n",
    "print(f'Accuracy = {cal_accuracy(y_train, y_hat)}')"
   ]
  }
 ],
 "metadata": {
  "kernelspec": {
   "display_name": "Python (lab1)",
   "language": "python",
   "name": "lab1"
  },
  "language_info": {
   "codemirror_mode": {
    "name": "ipython",
    "version": 3
   },
   "file_extension": ".py",
   "mimetype": "text/x-python",
   "name": "python",
   "nbconvert_exporter": "python",
   "pygments_lexer": "ipython3",
   "version": "3.8.3"
  }
 },
 "nbformat": 4,
 "nbformat_minor": 4
}
