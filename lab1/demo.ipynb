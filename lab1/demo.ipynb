{
 "cells": [
  {
   "cell_type": "code",
   "execution_count": 1,
   "metadata": {},
   "outputs": [],
   "source": [
    "from generate_data import generate_linear, generate_XOR_easy\n",
    "from show_result import show_result\n",
    "from utils import to_label, cal_accuracy\n",
    "from net import FC_Net"
   ]
  },
  {
   "cell_type": "code",
   "execution_count": 2,
   "metadata": {},
   "outputs": [
    {
     "name": "stdout",
     "output_type": "stream",
     "text": [
      "Start training...\n",
      "epoch 2000   loss: 0.22640  accuracy: 0.86000\n",
      "epoch 4000   loss: 0.19619  accuracy: 0.93000\n",
      "epoch 6000   loss: 0.16208  accuracy: 0.95000\n",
      "epoch 8000   loss: 0.12858  accuracy: 0.96000\n",
      "epoch 10000  loss: 0.10139  accuracy: 0.96000\n",
      "epoch 12000  loss: 0.08181  accuracy: 0.97000\n",
      "epoch 14000  loss: 0.06819  accuracy: 0.98000\n",
      "epoch 16000  loss: 0.05858  accuracy: 0.98000\n",
      "epoch 18000  loss: 0.05158  accuracy: 0.98000\n",
      "epoch 20000  loss: 0.04631  accuracy: 0.98000\n",
      "epoch 22000  loss: 0.04223  accuracy: 0.98000\n",
      "epoch 24000  loss: 0.03898  accuracy: 0.98000\n",
      "epoch 26000  loss: 0.03634  accuracy: 0.98000\n",
      "epoch 28000  loss: 0.03415  accuracy: 0.99000\n",
      "epoch 30000  loss: 0.03231  accuracy: 0.99000\n",
      "epoch 32000  loss: 0.03074  accuracy: 0.99000\n",
      "epoch 34000  loss: 0.02937  accuracy: 0.99000\n",
      "epoch 36000  loss: 0.02818  accuracy: 0.99000\n",
      "epoch 38000  loss: 0.02713  accuracy: 0.99000\n",
      "epoch 40000  loss: 0.02619  accuracy: 0.99000\n",
      "epoch 42000  loss: 0.02534  accuracy: 0.99000\n",
      "epoch 44000  loss: 0.02458  accuracy: 0.99000\n",
      "epoch 46000  loss: 0.02388  accuracy: 0.99000\n",
      "epoch 48000  loss: 0.02324  accuracy: 0.99000\n",
      "epoch 50000  loss: 0.02265  accuracy: 0.99000\n",
      "epoch 52000  loss: 0.02211  accuracy: 0.99000\n",
      "epoch 53530  loss: 0.02172  accuracy: 1.00000\n",
      "Accuracy = 1.0, early stop the training.\n"
     ]
    }
   ],
   "source": [
    "# train linear\n",
    "net_linear = FC_Net(5, 5)\n",
    "x_train, y_train = generate_linear()\n",
    "net_linear.train(x_train, y_train, epochs=100000, learning_rate=0.015);"
   ]
  },
  {
   "cell_type": "code",
   "execution_count": null,
   "metadata": {},
   "outputs": [],
   "source": [
    "# test linear\n",
    "y_hat = net_linear.test(x_train)\n",
    "print('Testing output:')\n",
    "print(y_hat)\n",
    "y_hat_label = to_label(y_hat)\n",
    "show_result(x_train, y_train, y_hat_label)\n",
    "print(f'Accuracy = {cal_accuracy(y_train, y_hat)}')"
   ]
  },
  {
   "cell_type": "code",
   "execution_count": null,
   "metadata": {},
   "outputs": [],
   "source": [
    "# train XOR\n",
    "net_XOR = FC_Net(15, 15)\n",
    "x_train, y_train = generate_XOR_easy()\n",
    "net_XOR.train(x_train, y_train, epochs=100000, learning_rate=0.015);"
   ]
  },
  {
   "cell_type": "code",
   "execution_count": null,
   "metadata": {},
   "outputs": [],
   "source": [
    "# test XOR\n",
    "y_hat = net_XOR.test(x_train)\n",
    "print('Testing output:')\n",
    "print(y_hat)\n",
    "y_hat_label = to_label(y_hat)\n",
    "show_result(x_train, y_train, y_hat_label)\n",
    "print(f'Accuracy = {cal_accuracy(y_train, y_hat)}')"
   ]
  }
 ],
 "metadata": {
  "kernelspec": {
   "display_name": "Python (lab1)",
   "language": "python",
   "name": "lab1"
  },
  "language_info": {
   "codemirror_mode": {
    "name": "ipython",
    "version": 3
   },
   "file_extension": ".py",
   "mimetype": "text/x-python",
   "name": "python",
   "nbconvert_exporter": "python",
   "pygments_lexer": "ipython3",
   "version": "3.8.3"
  }
 },
 "nbformat": 4,
 "nbformat_minor": 4
}
