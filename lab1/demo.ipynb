{
 "cells": [
  {
   "cell_type": "code",
   "execution_count": 17,
   "metadata": {},
   "outputs": [],
   "source": [
    "from generate_data import generate_linear, generate_XOR_easy\n",
    "from show_result import show_result\n",
    "from utils import to_label, cal_accuracy\n",
    "from net import FC_Net\n",
    "from plot_learning_curve import plot_learning_curve"
   ]
  },
  {
   "cell_type": "code",
   "execution_count": 18,
   "metadata": {},
   "outputs": [],
   "source": [
    "epochs=50000\n",
    "learning_rate=0.1"
   ]
  },
  {
   "cell_type": "code",
   "execution_count": 19,
   "metadata": {},
   "outputs": [
    {
     "name": "stdout",
     "output_type": "stream",
     "text": [
      "Start training...\n",
      "epoch 2500   loss: 0.18861  accuracy: 0.91000\n",
      "epoch 5000   loss: 0.04051  accuracy: 0.99000\n",
      "epoch 7500   loss: 0.02581  accuracy: 1.00000\n",
      "epoch 10000  loss: 0.02074  accuracy: 1.00000\n",
      "epoch 12500  loss: 0.01795  accuracy: 1.00000\n",
      "epoch 15000  loss: 0.01604  accuracy: 1.00000\n",
      "epoch 17500  loss: 0.01460  accuracy: 1.00000\n",
      "epoch 20000  loss: 0.01343  accuracy: 1.00000\n",
      "epoch 22500  loss: 0.01246  accuracy: 1.00000\n",
      "epoch 25000  loss: 0.01163  accuracy: 1.00000\n",
      "epoch 27500  loss: 0.01090  accuracy: 1.00000\n",
      "epoch 30000  loss: 0.01026  accuracy: 1.00000\n",
      "epoch 32500  loss: 0.00970  accuracy: 1.00000\n",
      "epoch 35000  loss: 0.00919  accuracy: 1.00000\n",
      "epoch 37500  loss: 0.00874  accuracy: 1.00000\n",
      "epoch 40000  loss: 0.00832  accuracy: 1.00000\n",
      "epoch 42500  loss: 0.00795  accuracy: 1.00000\n",
      "epoch 45000  loss: 0.00760  accuracy: 1.00000\n",
      "epoch 47500  loss: 0.00728  accuracy: 1.00000\n",
      "epoch 50000  loss: 0.00698  accuracy: 1.00000\n"
     ]
    }
   ],
   "source": [
    "# train linear\n",
    "net_linear = FC_Net(4, 4)\n",
    "x_train, y_train = generate_linear()\n",
    "linear_history = net_linear.train(x_train, y_train, epochs=epochs, learning_rate=learning_rate);"
   ]
  },
  {
   "cell_type": "code",
   "execution_count": 20,
   "metadata": {
    "scrolled": false
   },
   "outputs": [
    {
     "name": "stdout",
     "output_type": "stream",
     "text": [
      "Testing output:\n",
      "[[6.13289655e-01]\n",
      " [9.79610258e-01]\n",
      " [8.25084039e-04]\n",
      " [5.59357766e-01]\n",
      " [9.99839831e-01]\n",
      " [9.99909119e-01]\n",
      " [9.99903689e-01]\n",
      " [2.68482596e-04]\n",
      " [9.99892069e-01]\n",
      " [9.99904851e-01]\n",
      " [3.86106782e-04]\n",
      " [2.42384854e-04]\n",
      " [2.49082572e-04]\n",
      " [9.98671013e-01]\n",
      " [9.99906634e-01]\n",
      " [2.38942883e-03]\n",
      " [1.88452483e-01]\n",
      " [9.18129461e-01]\n",
      " [9.97969912e-01]\n",
      " [3.25080454e-04]\n",
      " [3.07318376e-04]\n",
      " [2.83614715e-04]\n",
      " [2.59973914e-01]\n",
      " [9.99820669e-01]\n",
      " [8.64601457e-01]\n",
      " [2.47178358e-04]\n",
      " [9.99873792e-01]\n",
      " [9.99889122e-01]\n",
      " [9.99867973e-01]\n",
      " [2.40426005e-03]\n",
      " [9.99887257e-01]\n",
      " [9.97720784e-01]\n",
      " [9.99901041e-01]\n",
      " [9.99851843e-01]\n",
      " [7.75767270e-04]\n",
      " [6.31499855e-04]\n",
      " [2.43614341e-04]\n",
      " [9.99870386e-01]\n",
      " [2.41446411e-04]\n",
      " [9.99644721e-01]\n",
      " [9.99890207e-01]\n",
      " [2.55661430e-04]\n",
      " [9.99097018e-01]\n",
      " [9.95861487e-01]\n",
      " [3.62324671e-04]\n",
      " [3.58454425e-04]\n",
      " [3.24612426e-01]\n",
      " [3.84517721e-03]\n",
      " [9.99905220e-01]\n",
      " [9.99828340e-01]\n",
      " [3.09569021e-04]\n",
      " [9.99771504e-01]\n",
      " [9.99882417e-01]\n",
      " [2.78641200e-04]\n",
      " [3.35699550e-04]\n",
      " [2.98005751e-04]\n",
      " [2.54047518e-04]\n",
      " [6.11986780e-04]\n",
      " [9.20716123e-01]\n",
      " [9.99905004e-01]\n",
      " [9.99877166e-01]\n",
      " [6.90755672e-04]\n",
      " [1.11757312e-03]\n",
      " [3.11130530e-01]\n",
      " [6.30106710e-04]\n",
      " [9.99894626e-01]\n",
      " [9.99835139e-01]\n",
      " [9.99601307e-01]\n",
      " [5.62412304e-04]\n",
      " [9.99863445e-01]\n",
      " [2.77451699e-04]\n",
      " [2.71626966e-04]\n",
      " [9.99351055e-01]\n",
      " [1.25125363e-01]\n",
      " [9.97866227e-01]\n",
      " [9.99904279e-01]\n",
      " [3.71593022e-02]\n",
      " [9.99880696e-01]\n",
      " [9.99902444e-01]\n",
      " [2.41908239e-04]\n",
      " [9.99902243e-01]\n",
      " [3.11651664e-04]\n",
      " [9.99902501e-01]\n",
      " [9.83381237e-01]\n",
      " [2.63532487e-04]\n",
      " [2.04457885e-03]\n",
      " [2.81963031e-04]\n",
      " [9.99876086e-01]\n",
      " [9.99903489e-01]\n",
      " [2.57324574e-04]\n",
      " [3.09233972e-04]\n",
      " [2.85414499e-04]\n",
      " [9.99821861e-01]\n",
      " [2.52142570e-04]\n",
      " [9.99899520e-01]\n",
      " [9.99904233e-01]\n",
      " [2.93890688e-04]\n",
      " [9.99639173e-01]\n",
      " [9.99904248e-01]\n",
      " [9.99191633e-01]]\n"
     ]
    },
    {
     "data": {
      "image/png": "[encoded data removed]",
      "text/plain": [
       "<Figure size 432x288 with 2 Axes>"
      ]
     },
     "metadata": {
      "needs_background": "light"
     },
     "output_type": "display_data"
    },
    {
     "name": "stdout",
     "output_type": "stream",
     "text": [
      "Accuracy = 1.0\n"
     ]
    }
   ],
   "source": [
    "# test linear\n",
    "y_hat = net_linear.test(x_train)\n",
    "print('Testing output:')\n",
    "print(y_hat)\n",
    "y_hat_label = to_label(y_hat)\n",
    "show_result(x_train, y_train, y_hat_label)\n",
    "print(f'Accuracy = {cal_accuracy(y_train, y_hat)}')"
   ]
  },
  {
   "cell_type": "code",
   "execution_count": 21,
   "metadata": {},
   "outputs": [
    {
     "name": "stdout",
     "output_type": "stream",
     "text": [
      "Start training...\n",
      "epoch 2500   loss: 0.21572  accuracy: 0.76190\n",
      "epoch 5000   loss: 0.08801  accuracy: 0.90476\n",
      "epoch 7500   loss: 0.03729  accuracy: 1.00000\n",
      "epoch 10000  loss: 0.01576  accuracy: 1.00000\n",
      "epoch 12500  loss: 0.00799  accuracy: 1.00000\n",
      "epoch 15000  loss: 0.00489  accuracy: 1.00000\n",
      "epoch 17500  loss: 0.00339  accuracy: 1.00000\n",
      "epoch 20000  loss: 0.00254  accuracy: 1.00000\n",
      "epoch 22500  loss: 0.00200  accuracy: 1.00000\n",
      "epoch 25000  loss: 0.00164  accuracy: 1.00000\n",
      "epoch 27500  loss: 0.00138  accuracy: 1.00000\n",
      "epoch 30000  loss: 0.00119  accuracy: 1.00000\n",
      "epoch 32500  loss: 0.00104  accuracy: 1.00000\n",
      "epoch 35000  loss: 0.00093  accuracy: 1.00000\n",
      "epoch 37500  loss: 0.00083  accuracy: 1.00000\n",
      "epoch 40000  loss: 0.00075  accuracy: 1.00000\n",
      "epoch 42500  loss: 0.00069  accuracy: 1.00000\n",
      "epoch 45000  loss: 0.00063  accuracy: 1.00000\n",
      "epoch 47500  loss: 0.00058  accuracy: 1.00000\n",
      "epoch 50000  loss: 0.00054  accuracy: 1.00000\n"
     ]
    }
   ],
   "source": [
    "# train XOR\n",
    "net_XOR = FC_Net(10, 10)\n",
    "x_train, y_train = generate_XOR_easy()\n",
    "xor_history = net_XOR.train(x_train, y_train, epochs=epochs, learning_rate=learning_rate);"
   ]
  },
  {
   "cell_type": "code",
   "execution_count": 22,
   "metadata": {},
   "outputs": [
    {
     "name": "stdout",
     "output_type": "stream",
     "text": [
      "Testing output:\n",
      "[[0.01558464]\n",
      " [0.99232752]\n",
      " [0.01851498]\n",
      " [0.99218832]\n",
      " [0.02163791]\n",
      " [0.9915313 ]\n",
      " [0.02432989]\n",
      " [0.98914631]\n",
      " [0.02604158]\n",
      " [0.94670945]\n",
      " [0.02655096]\n",
      " [0.02598243]\n",
      " [0.94949583]\n",
      " [0.02464916]\n",
      " [0.99491236]\n",
      " [0.02288627]\n",
      " [0.9965339 ]\n",
      " [0.02096027]\n",
      " [0.99703974]\n",
      " [0.01904811]\n",
      " [0.99731186]]\n"
     ]
    },
    {
     "data": {
      "image/png": "[encoded data removed]",
      "text/plain": [
       "<Figure size 432x288 with 2 Axes>"
      ]
     },
     "metadata": {
      "needs_background": "light"
     },
     "output_type": "display_data"
    },
    {
     "name": "stdout",
     "output_type": "stream",
     "text": [
      "Accuracy = 1.0\n"
     ]
    }
   ],
   "source": [
    "# test XOR\n",
    "y_hat = net_XOR.test(x_train)\n",
    "print('Testing output:')\n",
    "print(y_hat)\n",
    "y_hat_label = to_label(y_hat)\n",
    "show_result(x_train, y_train, y_hat_label)\n",
    "print(f'Accuracy = {cal_accuracy(y_train, y_hat)}')"
   ]
  },
  {
   "cell_type": "code",
   "execution_count": 23,
   "metadata": {},
   "outputs": [
    {
     "data": {
      "image/png": "[encoded data removed]",
      "text/plain": [
       "<Figure size 432x288 with 1 Axes>"
      ]
     },
     "metadata": {
      "needs_background": "light"
     },
     "output_type": "display_data"
    }
   ],
   "source": [
    "plot_learning_curve(linear_history['epochs'], linear_history['loss'])"
   ]
  },
  {
   "cell_type": "code",
   "execution_count": 24,
   "metadata": {},
   "outputs": [
    {
     "data": {
      "image/png": "[encoded data removed]",
      "text/plain": [
       "<Figure size 432x288 with 1 Axes>"
      ]
     },
     "metadata": {
      "needs_background": "light"
     },
     "output_type": "display_data"
    }
   ],
   "source": [
    "plot_learning_curve(xor_history['epochs'], xor_history['loss'])"
   ]
  }
 ],
 "metadata": {
  "kernelspec": {
   "display_name": "Python (lab1)",
   "language": "python",
   "name": "lab1"
  },
  "language_info": {
   "codemirror_mode": {
    "name": "ipython",
    "version": 3
   },
   "file_extension": ".py",
   "mimetype": "text/x-python",
   "name": "python",
   "nbconvert_exporter": "python",
   "pygments_lexer": "ipython3",
   "version": "3.8.3"
  }
 },
 "nbformat": 4,
 "nbformat_minor": 4
}
