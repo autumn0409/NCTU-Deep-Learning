{
 "cells": [
  {
   "cell_type": "code",
   "execution_count": 1,
   "metadata": {},
   "outputs": [],
   "source": [
    "from generate_data import generate_linear, generate_XOR_easy\n",
    "from show_result import show_result\n",
    "from utils import to_label, cal_accuracy\n",
    "from net import FC_Net"
   ]
  },
  {
   "cell_type": "code",
   "execution_count": 2,
   "metadata": {},
   "outputs": [],
   "source": [
    "epochs=50000\n",
    "learning_rate=0.1\n",
    "early_stop=True"
   ]
  },
  {
   "cell_type": "code",
   "execution_count": 3,
   "metadata": {},
   "outputs": [
    {
     "name": "stdout",
     "output_type": "stream",
     "text": [
      "Start training...\n",
      "epoch 2500   loss: 0.15467  accuracy: 0.93000\n",
      "epoch 5000   loss: 0.04022  accuracy: 0.99000\n",
      "epoch 7500   loss: 0.02513  accuracy: 0.99000\n",
      "epoch 10000  loss: 0.01877  accuracy: 0.99000\n",
      "epoch 12500  loss: 0.01505  accuracy: 0.99000\n",
      "epoch 15000  loss: 0.01265  accuracy: 0.99000\n",
      "epoch 17500  loss: 0.01104  accuracy: 0.99000\n",
      "epoch 20000  loss: 0.00993  accuracy: 0.99000\n",
      "epoch 22500  loss: 0.00913  accuracy: 0.99000\n",
      "epoch 25000  loss: 0.00854  accuracy: 0.99000\n",
      "epoch 27500  loss: 0.00810  accuracy: 0.99000\n",
      "epoch 30000  loss: 0.00774  accuracy: 0.99000\n",
      "epoch 32500  loss: 0.00746  accuracy: 0.99000\n",
      "epoch 35000  loss: 0.00722  accuracy: 0.99000\n",
      "epoch 37500  loss: 0.00701  accuracy: 0.99000\n",
      "epoch 40000  loss: 0.00683  accuracy: 0.99000\n",
      "epoch 42500  loss: 0.00667  accuracy: 0.99000\n",
      "epoch 45000  loss: 0.00652  accuracy: 0.99000\n",
      "epoch 47500  loss: 0.00637  accuracy: 0.99000\n",
      "epoch 50000  loss: 0.00624  accuracy: 0.99000\n"
     ]
    }
   ],
   "source": [
    "# train linear\n",
    "net_linear = FC_Net(4, 4)\n",
    "x_train, y_train = generate_linear()\n",
    "linear_history = net_linear.train(x_train, y_train, epochs=epochs, learning_rate=learning_rate, early_stop=early_stop);"
   ]
  },
  {
   "cell_type": "code",
   "execution_count": 4,
   "metadata": {
    "scrolled": true
   },
   "outputs": [
    {
     "name": "stdout",
     "output_type": "stream",
     "text": [
      "Testing output:\n",
      "[[8.91457347e-01]\n",
      " [3.12814487e-02]\n",
      " [9.99413378e-01]\n",
      " [9.29089285e-01]\n",
      " [9.99965104e-01]\n",
      " [9.40101857e-01]\n",
      " [9.98816684e-01]\n",
      " [5.36267181e-05]\n",
      " [9.66459302e-01]\n",
      " [9.99753555e-01]\n",
      " [2.52111989e-02]\n",
      " [8.55293135e-01]\n",
      " [9.99964556e-01]\n",
      " [9.99713086e-01]\n",
      " [9.99929707e-01]\n",
      " [9.98367415e-01]\n",
      " [7.31478321e-05]\n",
      " [9.99968661e-01]\n",
      " [9.99965237e-01]\n",
      " [7.01767856e-05]\n",
      " [9.99721650e-01]\n",
      " [1.81082271e-02]\n",
      " [9.99964468e-01]\n",
      " [9.99971134e-01]\n",
      " [9.99972906e-01]\n",
      " [5.68358386e-05]\n",
      " [6.10294589e-05]\n",
      " [1.06318424e-04]\n",
      " [5.34953187e-05]\n",
      " [9.99259846e-01]\n",
      " [9.99960575e-01]\n",
      " [6.02399056e-05]\n",
      " [2.15890901e-04]\n",
      " [1.12284915e-02]\n",
      " [9.69918057e-02]\n",
      " [5.62502373e-02]\n",
      " [9.99961129e-01]\n",
      " [9.99960356e-01]\n",
      " [4.77698355e-04]\n",
      " [9.12690532e-01]\n",
      " [3.71533446e-04]\n",
      " [9.99887765e-01]\n",
      " [1.67182538e-04]\n",
      " [9.98599651e-01]\n",
      " [9.60895000e-01]\n",
      " [6.02294585e-05]\n",
      " [8.83353205e-05]\n",
      " [6.09095348e-05]\n",
      " [2.47291135e-04]\n",
      " [9.99966052e-01]\n",
      " [9.99958623e-01]\n",
      " [9.99949085e-01]\n",
      " [9.99804831e-01]\n",
      " [9.99968928e-01]\n",
      " [1.27831556e-04]\n",
      " [6.97458309e-03]\n",
      " [7.01115244e-04]\n",
      " [9.99187986e-01]\n",
      " [7.53777343e-05]\n",
      " [2.08826219e-04]\n",
      " [7.53297261e-05]\n",
      " [9.99759202e-01]\n",
      " [7.65035613e-01]\n",
      " [9.99718784e-01]\n",
      " [9.99720697e-01]\n",
      " [9.99957380e-01]\n",
      " [8.34909250e-01]\n",
      " [8.26520988e-04]\n",
      " [9.99970929e-01]\n",
      " [7.10482590e-04]\n",
      " [6.71595679e-05]\n",
      " [9.99968762e-01]\n",
      " [2.04906786e-04]\n",
      " [9.99963903e-01]\n",
      " [5.50735304e-05]\n",
      " [7.50695604e-01]\n",
      " [7.50869339e-05]\n",
      " [9.99972299e-01]\n",
      " [3.18550998e-04]\n",
      " [6.02835795e-02]\n",
      " [8.98131601e-05]\n",
      " [8.47897868e-05]\n",
      " [2.52123145e-02]\n",
      " [2.07669797e-03]\n",
      " [2.77741724e-03]\n",
      " [6.32373691e-01]\n",
      " [2.93231002e-04]\n",
      " [9.99950901e-01]\n",
      " [9.99843943e-01]\n",
      " [5.38596302e-05]\n",
      " [9.99953160e-01]\n",
      " [9.99973474e-01]\n",
      " [9.99938410e-01]\n",
      " [5.88239781e-05]\n",
      " [9.99938264e-01]\n",
      " [2.67520863e-04]\n",
      " [9.99823677e-01]\n",
      " [9.06032041e-01]\n",
      " [9.99912137e-01]\n",
      " [9.99966686e-01]]\n"
     ]
    },
    {
     "data": {
      "image/png": "[encoded data removed]",
      "text/plain": [
       "<Figure size 432x288 with 2 Axes>"
      ]
     },
     "metadata": {
      "needs_background": "light"
     },
     "output_type": "display_data"
    },
    {
     "name": "stdout",
     "output_type": "stream",
     "text": [
      "Accuracy = 0.99\n"
     ]
    }
   ],
   "source": [
    "# test linear\n",
    "y_hat = net_linear.test(x_train)\n",
    "print('Testing output:')\n",
    "print(y_hat)\n",
    "y_hat_label = to_label(y_hat)\n",
    "show_result(x_train, y_train, y_hat_label)\n",
    "print(f'Accuracy = {cal_accuracy(y_train, y_hat)}')"
   ]
  },
  {
   "cell_type": "code",
   "execution_count": 5,
   "metadata": {},
   "outputs": [
    {
     "name": "stdout",
     "output_type": "stream",
     "text": [
      "Start training...\n",
      "epoch 2500   loss: 0.19169  accuracy: 0.90476\n",
      "epoch 5000   loss: 0.07865  accuracy: 0.90476\n",
      "epoch 7020   loss: 0.04517  accuracy: 1.00000\n",
      "Accuracy = 1.0, early stop the training.\n"
     ]
    }
   ],
   "source": [
    "# train XOR\n",
    "net_XOR = FC_Net(10, 10)\n",
    "x_train, y_train = generate_XOR_easy()\n",
    "xor_history = net_XOR.train(x_train, y_train, epochs=epochs, learning_rate=learning_rate, early_stop=early_stop);"
   ]
  },
  {
   "cell_type": "code",
   "execution_count": 6,
   "metadata": {},
   "outputs": [
    {
     "name": "stdout",
     "output_type": "stream",
     "text": [
      "Testing output:\n",
      "[[0.02322743]\n",
      " [0.94813381]\n",
      " [0.06531774]\n",
      " [0.94138727]\n",
      " [0.14356097]\n",
      " [0.91930084]\n",
      " [0.22279832]\n",
      " [0.83145188]\n",
      " [0.26565663]\n",
      " [0.50575413]\n",
      " [0.26891463]\n",
      " [0.24613639]\n",
      " [0.5000893 ]\n",
      " [0.21164624]\n",
      " [0.85660797]\n",
      " [0.17553039]\n",
      " [0.94798293]\n",
      " [0.14319612]\n",
      " [0.96839378]\n",
      " [0.11657638]\n",
      " [0.97470295]]\n"
     ]
    },
    {
     "data": {
      "image/png": "[encoded data removed]",
      "text/plain": [
       "<Figure size 432x288 with 2 Axes>"
      ]
     },
     "metadata": {
      "needs_background": "light"
     },
     "output_type": "display_data"
    },
    {
     "name": "stdout",
     "output_type": "stream",
     "text": [
      "Accuracy = 1.0\n"
     ]
    }
   ],
   "source": [
    "# test XOR\n",
    "y_hat = net_XOR.test(x_train)\n",
    "print('Testing output:')\n",
    "print(y_hat)\n",
    "y_hat_label = to_label(y_hat)\n",
    "show_result(x_train, y_train, y_hat_label)\n",
    "print(f'Accuracy = {cal_accuracy(y_train, y_hat)}')"
   ]
  }
 ],
 "metadata": {
  "kernelspec": {
   "display_name": "Python (lab1)",
   "language": "python",
   "name": "lab1"
  },
  "language_info": {
   "codemirror_mode": {
    "name": "ipython",
    "version": 3
   },
   "file_extension": ".py",
   "mimetype": "text/x-python",
   "name": "python",
   "nbconvert_exporter": "python",
   "pygments_lexer": "ipython3",
   "version": "3.8.3"
  }
 },
 "nbformat": 4,
 "nbformat_minor": 4
}
