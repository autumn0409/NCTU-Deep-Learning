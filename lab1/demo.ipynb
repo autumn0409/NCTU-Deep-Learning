{
 "cells": [
  {
   "cell_type": "code",
   "execution_count": 21,
   "metadata": {},
   "outputs": [],
   "source": [
    "from generate_data import generate_linear, generate_XOR_easy\n",
    "from show_result import show_result\n",
    "from utils import to_label, cal_accuracy\n",
    "from net import FC_Net"
   ]
  },
  {
   "cell_type": "code",
   "execution_count": 22,
   "metadata": {},
   "outputs": [
    {
     "name": "stdout",
     "output_type": "stream",
     "text": [
      "Start training...\n",
      "epoch 1000   loss: 0.23671  accuracy: 0.61000\n",
      "epoch 2000   loss: 0.16011  accuracy: 0.90000\n",
      "epoch 3000   loss: 0.07111  accuracy: 0.98000\n",
      "epoch 4000   loss: 0.04645  accuracy: 0.98000\n",
      "epoch 5000   loss: 0.03563  accuracy: 0.98000\n",
      "epoch 6000   loss: 0.02927  accuracy: 0.99000\n",
      "epoch 7000   loss: 0.02497  accuracy: 0.99000\n",
      "epoch 8000   loss: 0.02184  accuracy: 0.99000\n",
      "epoch 9000   loss: 0.01943  accuracy: 0.99000\n",
      "epoch 10000  loss: 0.01751  accuracy: 0.99000\n",
      "epoch 11000  loss: 0.01594  accuracy: 0.99000\n",
      "epoch 12000  loss: 0.01463  accuracy: 0.99000\n",
      "epoch 13000  loss: 0.01352  accuracy: 0.99000\n",
      "epoch 14000  loss: 0.01256  accuracy: 1.00000\n",
      "epoch 15000  loss: 0.01172  accuracy: 1.00000\n",
      "epoch 16000  loss: 0.01099  accuracy: 1.00000\n",
      "epoch 17000  loss: 0.01033  accuracy: 1.00000\n",
      "epoch 18000  loss: 0.00975  accuracy: 1.00000\n",
      "epoch 19000  loss: 0.00922  accuracy: 1.00000\n",
      "epoch 20000  loss: 0.00875  accuracy: 1.00000\n"
     ]
    }
   ],
   "source": [
    "# train linear\n",
    "net_linear = FC_Net(4, 4)\n",
    "x_train, y_train = generate_linear()\n",
    "net_linear.train(x_train, y_train, epochs=20000, learning_rate=0.1);"
   ]
  },
  {
   "cell_type": "code",
   "execution_count": 23,
   "metadata": {
    "scrolled": false
   },
   "outputs": [
    {
     "name": "stdout",
     "output_type": "stream",
     "text": [
      "Testing output:\n",
      "[[6.29428784e-04]\n",
      " [4.11211667e-03]\n",
      " [9.99791696e-01]\n",
      " [1.48665994e-01]\n",
      " [4.19296398e-04]\n",
      " [9.96293588e-01]\n",
      " [9.99793924e-01]\n",
      " [9.99696655e-01]\n",
      " [9.80195894e-01]\n",
      " [5.03338509e-02]\n",
      " [9.99738136e-01]\n",
      " [9.99665987e-01]\n",
      " [9.90116793e-01]\n",
      " [9.98856073e-01]\n",
      " [3.83308218e-04]\n",
      " [9.54044901e-03]\n",
      " [9.75403470e-01]\n",
      " [9.99823055e-01]\n",
      " [9.67783950e-01]\n",
      " [9.99105438e-01]\n",
      " [9.97783113e-01]\n",
      " [7.32210493e-01]\n",
      " [9.37354811e-03]\n",
      " [1.00529162e-03]\n",
      " [5.42073844e-04]\n",
      " [4.05669555e-04]\n",
      " [9.98906404e-01]\n",
      " [9.99701542e-01]\n",
      " [9.99820782e-01]\n",
      " [9.99537645e-01]\n",
      " [2.64769635e-03]\n",
      " [9.99433544e-01]\n",
      " [9.98711620e-01]\n",
      " [9.99658571e-01]\n",
      " [1.81676936e-03]\n",
      " [1.10452144e-02]\n",
      " [9.95526381e-01]\n",
      " [4.01330386e-04]\n",
      " [9.98312810e-01]\n",
      " [9.99818371e-01]\n",
      " [1.62978004e-01]\n",
      " [9.99066414e-01]\n",
      " [9.99756839e-01]\n",
      " [9.99702933e-01]\n",
      " [2.19837887e-03]\n",
      " [4.29523183e-04]\n",
      " [3.70968857e-04]\n",
      " [2.80235844e-03]\n",
      " [9.53822918e-04]\n",
      " [9.99232433e-01]\n",
      " [3.93047084e-04]\n",
      " [3.54207310e-04]\n",
      " [9.99682402e-01]\n",
      " [9.99745141e-01]\n",
      " [9.98212941e-01]\n",
      " [3.55573417e-01]\n",
      " [9.98214589e-01]\n",
      " [9.99307151e-01]\n",
      " [7.99651421e-02]\n",
      " [7.84217978e-01]\n",
      " [9.28957797e-01]\n",
      " [9.19602007e-01]\n",
      " [9.99683185e-01]\n",
      " [9.99780630e-01]\n",
      " [4.20424547e-04]\n",
      " [2.47402333e-01]\n",
      " [8.56522352e-03]\n",
      " [6.16235128e-02]\n",
      " [9.99816365e-01]\n",
      " [4.17412013e-04]\n",
      " [6.74317330e-01]\n",
      " [4.98398077e-04]\n",
      " [9.79332301e-01]\n",
      " [8.68129176e-01]\n",
      " [9.99832672e-01]\n",
      " [3.71088738e-04]\n",
      " [3.59650484e-02]\n",
      " [9.99363777e-01]\n",
      " [5.42904800e-01]\n",
      " [9.74061619e-01]\n",
      " [4.07323764e-04]\n",
      " [4.39820605e-03]\n",
      " [4.93040825e-04]\n",
      " [2.95835457e-02]\n",
      " [9.99771902e-01]\n",
      " [9.99004566e-01]\n",
      " [4.67781522e-02]\n",
      " [1.16083568e-01]\n",
      " [4.71680498e-04]\n",
      " [9.99779974e-01]\n",
      " [5.64971120e-04]\n",
      " [6.84522668e-04]\n",
      " [9.99621392e-01]\n",
      " [1.89634865e-01]\n",
      " [2.75983447e-01]\n",
      " [5.08566383e-04]\n",
      " [9.99827288e-01]\n",
      " [1.73073055e-01]\n",
      " [1.86597609e-03]\n",
      " [9.99809516e-01]]\n"
     ]
    },
    {
     "data": {
      "image/png": "[encoded data removed]",
      "text/plain": [
       "<Figure size 432x288 with 2 Axes>"
      ]
     },
     "metadata": {
      "needs_background": "light"
     },
     "output_type": "display_data"
    },
    {
     "name": "stdout",
     "output_type": "stream",
     "text": [
      "Accuracy = 1.0\n"
     ]
    }
   ],
   "source": [
    "# test linear\n",
    "y_hat = net_linear.test(x_train)\n",
    "print('Testing output:')\n",
    "print(y_hat)\n",
    "y_hat_label = to_label(y_hat)\n",
    "show_result(x_train, y_train, y_hat_label)\n",
    "print(f'Accuracy = {cal_accuracy(y_train, y_hat)}')"
   ]
  },
  {
   "cell_type": "code",
   "execution_count": 24,
   "metadata": {},
   "outputs": [
    {
     "name": "stdout",
     "output_type": "stream",
     "text": [
      "Start training...\n",
      "epoch 1000   loss: 0.24657  accuracy: 0.71429\n",
      "epoch 2000   loss: 0.23923  accuracy: 0.66667\n",
      "epoch 3000   loss: 0.22642  accuracy: 0.71429\n",
      "epoch 4000   loss: 0.19881  accuracy: 0.85714\n",
      "epoch 5000   loss: 0.15013  accuracy: 0.90476\n",
      "epoch 6000   loss: 0.10328  accuracy: 0.90476\n",
      "epoch 7000   loss: 0.07365  accuracy: 0.90476\n",
      "epoch 8000   loss: 0.05509  accuracy: 0.90476\n",
      "epoch 9000   loss: 0.04185  accuracy: 1.00000\n",
      "epoch 10000  loss: 0.03160  accuracy: 1.00000\n",
      "epoch 11000  loss: 0.02371  accuracy: 1.00000\n",
      "epoch 12000  loss: 0.01790  accuracy: 1.00000\n",
      "epoch 13000  loss: 0.01375  accuracy: 1.00000\n",
      "epoch 14000  loss: 0.01080  accuracy: 1.00000\n",
      "epoch 15000  loss: 0.00869  accuracy: 1.00000\n",
      "epoch 16000  loss: 0.00715  accuracy: 1.00000\n",
      "epoch 17000  loss: 0.00600  accuracy: 1.00000\n",
      "epoch 18000  loss: 0.00512  accuracy: 1.00000\n",
      "epoch 19000  loss: 0.00444  accuracy: 1.00000\n",
      "epoch 20000  loss: 0.00390  accuracy: 1.00000\n"
     ]
    }
   ],
   "source": [
    "# train XOR\n",
    "net_XOR = FC_Net(10, 10)\n",
    "x_train, y_train = generate_XOR_easy()\n",
    "net_XOR.train(x_train, y_train, epochs=20000, learning_rate=0.1);"
   ]
  },
  {
   "cell_type": "code",
   "execution_count": 25,
   "metadata": {},
   "outputs": [
    {
     "name": "stdout",
     "output_type": "stream",
     "text": [
      "Testing output:\n",
      "[[0.00717159]\n",
      " [0.98312964]\n",
      " [0.02027681]\n",
      " [0.98243156]\n",
      " [0.04562007]\n",
      " [0.98024384]\n",
      " [0.07238158]\n",
      " [0.9724719 ]\n",
      " [0.08618698]\n",
      " [0.85468653]\n",
      " [0.08540394]\n",
      " [0.07621186]\n",
      " [0.859158  ]\n",
      " [0.06438548]\n",
      " [0.98159578]\n",
      " [0.05305635]\n",
      " [0.98793709]\n",
      " [0.04339375]\n",
      " [0.98922438]\n",
      " [0.03557938]\n",
      " [0.98961894]]\n"
     ]
    },
    {
     "data": {
      "image/png": "[encoded data removed]",
      "text/plain": [
       "<Figure size 432x288 with 2 Axes>"
      ]
     },
     "metadata": {
      "needs_background": "light"
     },
     "output_type": "display_data"
    },
    {
     "name": "stdout",
     "output_type": "stream",
     "text": [
      "Accuracy = 1.0\n"
     ]
    }
   ],
   "source": [
    "# test XOR\n",
    "y_hat = net_XOR.test(x_train)\n",
    "print('Testing output:')\n",
    "print(y_hat)\n",
    "y_hat_label = to_label(y_hat)\n",
    "show_result(x_train, y_train, y_hat_label)\n",
    "print(f'Accuracy = {cal_accuracy(y_train, y_hat)}')"
   ]
  }
 ],
 "metadata": {
  "kernelspec": {
   "display_name": "Python (lab1)",
   "language": "python",
   "name": "lab1"
  },
  "language_info": {
   "codemirror_mode": {
    "name": "ipython",
    "version": 3
   },
   "file_extension": ".py",
   "mimetype": "text/x-python",
   "name": "python",
   "nbconvert_exporter": "python",
   "pygments_lexer": "ipython3",
   "version": "3.8.3"
  }
 },
 "nbformat": 4,
 "nbformat_minor": 4
}
